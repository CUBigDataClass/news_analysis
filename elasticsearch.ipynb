{
 "cells": [
  {
   "cell_type": "code",
   "execution_count": 1,
   "metadata": {},
   "outputs": [],
   "source": [
    "import elasticsearch\n",
    "from elasticsearch import Elasticsearch,helpers\n",
    "\n",
    "import os\n",
    "import sys\n",
    "import pandas as pd\n",
    "import json\n",
    "from ast import literal_eval\n",
    "\n",
    "import datetime\n",
    "import numpy as np\n",
    "import requests\n"
   ]
  },
  {
   "cell_type": "code",
   "execution_count": 2,
   "metadata": {},
   "outputs": [
    {
     "data": {
      "text/plain": [
       "True"
      ]
     },
     "execution_count": 2,
     "metadata": {},
     "output_type": "execute_result"
    }
   ],
   "source": [
    "ENDPOINT=\"http://localhost:9200/\"\n",
    "# ENDPOINT=\"https://vpc-news-analysis-oha6sb5hnkhgysuayfjtdudrmm.us-east-1.es.amazonaws.com/\"\n",
    "es = Elasticsearch(timeout=600,hosts=ENDPOINT)\n",
    "es.ping()"
   ]
  },
  {
   "cell_type": "code",
   "execution_count": 5,
   "metadata": {},
   "outputs": [
    {
     "data": {
      "text/plain": [
       "{'acknowledged': True}"
      ]
     },
     "execution_count": 5,
     "metadata": {},
     "output_type": "execute_result"
    }
   ],
   "source": [
    "# es.indices.delete(index=\"news\",ignore=[400,404])"
   ]
  },
  {
   "cell_type": "code",
   "execution_count": 7,
   "metadata": {},
   "outputs": [],
   "source": [
    "APIKEY=\"\""
   ]
  },
  {
   "cell_type": "code",
   "execution_count": 8,
   "metadata": {},
   "outputs": [],
   "source": [
    "url = ('https://newsapi.org/v2/everything?'\n",
    "       'q=Suez Canal&'\n",
    "       'from=2021-03-01&'\n",
    "       'sortBy=popularity&'\n",
    "       'apiKey='+APIKEY)\n",
    "\n",
    "response = requests.get(url)\n",
    "\n",
    "\n",
    "# issue: need to remove duplicates\n",
    "for k in response.json()['articles']:\n",
    "    res1 = es.index(index='news',body=k)\n"
   ]
  },
  {
   "cell_type": "markdown",
   "metadata": {},
   "source": [
    "Review in http://localhost:5601/app/dev_tools#/console"
   ]
  }
 ],
 "metadata": {
  "kernelspec": {
   "display_name": "Python 3",
   "language": "python",
   "name": "python3"
  },
  "language_info": {
   "codemirror_mode": {
    "name": "ipython",
    "version": 3
   },
   "file_extension": ".py",
   "mimetype": "text/x-python",
   "name": "python",
   "nbconvert_exporter": "python",
   "pygments_lexer": "ipython3",
   "version": "3.8.5"
  }
 },
 "nbformat": 4,
 "nbformat_minor": 4
}
