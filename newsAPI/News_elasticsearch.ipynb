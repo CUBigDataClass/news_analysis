{
 "cells": [
  {
   "cell_type": "code",
   "execution_count": 1,
   "metadata": {},
   "outputs": [],
   "source": [
    "import elasticsearch\n",
    "from elasticsearch import Elasticsearch,helpers\n",
    "\n",
    "import os\n",
    "import sys\n",
    "import pandas as pd\n",
    "import json\n",
    "from ast import literal_eval\n",
    "\n",
    "import datetime\n",
    "import numpy as np\n",
    "import requests\n"
   ]
  },
  {
   "cell_type": "code",
   "execution_count": 3,
   "metadata": {},
   "outputs": [
    {
     "data": {
      "text/plain": [
       "True"
      ]
     },
     "execution_count": 3,
     "metadata": {},
     "output_type": "execute_result"
    }
   ],
   "source": [
    "ENDPOINT=\"https://big-data-news-analysis.es.us-central1.gcp.cloud.es.io:9243\"\n",
    "es = Elasticsearch(timeout=600,hosts=ENDPOINT,http_auth=('elastic', ''))\n",
    "es.ping()"
   ]
  },
  {
   "cell_type": "code",
   "execution_count": 5,
   "metadata": {},
   "outputs": [
    {
     "data": {
      "text/plain": [
       "{'acknowledged': True}"
      ]
     },
     "execution_count": 5,
     "metadata": {},
     "output_type": "execute_result"
    }
   ],
   "source": [
    "# es.indices.delete(index=\"news\",ignore=[400,404])"
   ]
  },
  {
   "cell_type": "code",
   "execution_count": 7,
   "metadata": {},
   "outputs": [],
   "source": [
    "APIKEY=\"\""
   ]
  },
  {
   "cell_type": "code",
   "execution_count": 4,
   "metadata": {},
   "outputs": [],
   "source": [
    "url = ('https://newsapi.org/v2/top-headlines?country=us&category=business&'\n",
    "       'apiKey=')\n",
    "\n",
    "response = requests.get(url)"
   ]
  },
  {
   "cell_type": "code",
   "execution_count": 7,
   "metadata": {},
   "outputs": [],
   "source": [
    "# issue: need to remove duplicates\n",
    "for k in response.json()['articles']:\n",
    "    res1 = es.index(index='news',body=k)"
   ]
  },
  {
   "cell_type": "code",
   "execution_count": 25,
   "metadata": {},
   "outputs": [
    {
     "name": "stdout",
     "output_type": "stream",
     "text": [
      "{'source': {'id': None, 'name': \"Investor's Business Daily\"}, 'author': \"Investor's Business Daily\", 'title': \"Dow Jones Dives On Biden Tax Hike Report, Climate Pledge; Visa Passes Buy Point - Investor's Business Daily\", 'description': 'The Dow Jones lagged after President Joe Biden announced a new climate change target. The Nasdaq slipped. Visa stock passed a buy point.', 'url': 'https://www.investors.com/market-trend/stock-market-today/dow-jones-lags-nasdaq-dips-as-joe-biden-makes-climate-change-pledge-visa-stock-passes-buy-point/', 'urlToImage': 'https://www.investors.com/wp-content/uploads/2021/01/Stock-biden-08-shutt.jpg', 'publishedAt': '2021-04-22T18:17:00Z', 'content': 'The Dow Jones Industrial Average sank on a report President Joe Biden wants to hike the capital gains tax rate on wealthy Americans. He also announced a new climate change target. The Nasdaq also rev… [+6223 chars]'}\n"
     ]
    }
   ],
   "source": [
    "# es.indices.delete(index=\"news\")\n",
    "result = es.search(index='news', body={}, size=5214)\n",
    "print(result['hits']['hits'][0].get(\"_source\"))"
   ]
  },
  {
   "cell_type": "markdown",
   "metadata": {},
   "source": [
    "Review in http://localhost:5601/app/dev_tools#/console"
   ]
  }
 ],
 "metadata": {
  "kernelspec": {
   "display_name": "Python 3",
   "language": "python",
   "name": "python3"
  },
  "language_info": {
   "codemirror_mode": {
    "name": "ipython",
    "version": 3
   },
   "file_extension": ".py",
   "mimetype": "text/x-python",
   "name": "python",
   "nbconvert_exporter": "python",
   "pygments_lexer": "ipython3",
   "version": "3.8.5"
  }
 },
 "nbformat": 4,
 "nbformat_minor": 4
}
